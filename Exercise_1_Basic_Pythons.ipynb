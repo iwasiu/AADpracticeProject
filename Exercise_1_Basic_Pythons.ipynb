{
  "cells": [
    {
      "cell_type": "markdown",
      "metadata": {
        "id": "view-in-github",
        "colab_type": "text"
      },
      "source": [
        "<a href=\"https://colab.research.google.com/github/iwasiu/AADpracticeProject/blob/master/Exercise_1_Basic_Pythons.ipynb\" target=\"_parent\"><img src=\"https://colab.research.google.com/assets/colab-badge.svg\" alt=\"Open In Colab\"/></a>"
      ]
    },
    {
      "cell_type": "markdown",
      "metadata": {
        "id": "b3D0EbxwUI4k"
      },
      "source": [
        "![](../docs/banner.png)"
      ]
    },
    {
      "cell_type": "markdown",
      "metadata": {
        "id": "B9I_ptTQUI5B"
      },
      "source": [
        "# Python Basics\n",
        "\n"
      ]
    },
    {
      "cell_type": "markdown",
      "metadata": {
        "id": "q1rvayIuUI5G"
      },
      "source": [
        "## Exercises"
      ]
    },
    {
      "cell_type": "markdown",
      "metadata": {
        "id": "awmWxCUEUI5K"
      },
      "source": [
        "### 1."
      ]
    },
    {
      "cell_type": "markdown",
      "metadata": {
        "id": "JGYoJYQmUI5N"
      },
      "source": [
        "What is 5 to the power of 5?"
      ]
    },
    {
      "cell_type": "code",
      "execution_count": 3,
      "metadata": {
        "id": "s1dqFPIyUI5R",
        "outputId": "05e57820-b513-4463-c94e-b31694fecb44",
        "colab": {
          "base_uri": "https://localhost:8080/"
        }
      },
      "outputs": [
        {
          "output_type": "stream",
          "name": "stdout",
          "text": [
            "The power of 5 to the power of 5 is: 3125\n"
          ]
        }
      ],
      "source": [
        "# Your answer here.\n",
        "number = 5\n",
        "print(\"The power of\",number,\"to the power of 5 is:\",number**5)"
      ]
    },
    {
      "cell_type": "markdown",
      "metadata": {
        "id": "EEbPKpoLUI5b"
      },
      "source": [
        "### 2."
      ]
    },
    {
      "cell_type": "markdown",
      "metadata": {
        "id": "GfIQ8aDJUI5g"
      },
      "source": [
        "What is the remainder from dividing 73 by 6?"
      ]
    },
    {
      "cell_type": "code",
      "execution_count": 5,
      "metadata": {
        "id": "tSjheCt7UI5k",
        "outputId": "bf8ff09e-ee19-4d02-c4a0-dad96a580fbe",
        "colab": {
          "base_uri": "https://localhost:8080/"
        }
      },
      "outputs": [
        {
          "output_type": "stream",
          "name": "stdout",
          "text": [
            "The remainder dividing 73 by 6 is: 1\n"
          ]
        }
      ],
      "source": [
        "# Your answer here.\n",
        "numerator = 73\n",
        "denominator = 6\n",
        "remainder = numerator % denominator\n",
        "print(\"The remainder dividing 73 by 6 is:\",remainder)"
      ]
    },
    {
      "cell_type": "markdown",
      "metadata": {
        "id": "GLNP2IgYUI5p"
      },
      "source": [
        "### 3."
      ]
    },
    {
      "cell_type": "markdown",
      "metadata": {
        "id": "jbEFC4-oUI5t"
      },
      "source": [
        "How many times does the whole number 3 go into 123? What is the remainder of dividing 123 by 3?"
      ]
    },
    {
      "cell_type": "code",
      "execution_count": 7,
      "metadata": {
        "id": "3gydP-ahUI5w",
        "outputId": "ad03d4d8-8c8e-4a1a-b319-6d50c60c558b",
        "colab": {
          "base_uri": "https://localhost:8080/"
        }
      },
      "outputs": [
        {
          "output_type": "stream",
          "name": "stdout",
          "text": [
            "The whole number 3 go into 123: 41 times\n",
            "The remainder of dividing 123 by 3: 0\n"
          ]
        }
      ],
      "source": [
        "# Your answer here.\n",
        "numerator = 123\n",
        "denominator = 3\n",
        "\n",
        "quotient = numerator // denominator\n",
        "remainder = numerator % denominator\n",
        "print(\"The whole number 3 go into 123:\",quotient,\"times\")\n",
        "print(\"The remainder of dividing 123 by 3:\",remainder)"
      ]
    },
    {
      "cell_type": "markdown",
      "metadata": {
        "id": "8c_q5zVQUI50"
      },
      "source": [
        "### 4."
      ]
    },
    {
      "cell_type": "markdown",
      "metadata": {
        "id": "hmEVjum7UI52"
      },
      "source": [
        "Split the following string into a list by splitting on the space character:"
      ]
    },
    {
      "cell_type": "code",
      "execution_count": 10,
      "metadata": {
        "id": "Qb0Ey_0tUI54",
        "outputId": "580b20b7-0231-4867-f7cb-a61ae8a2f823",
        "colab": {
          "base_uri": "https://localhost:8080/"
        }
      },
      "outputs": [
        {
          "output_type": "stream",
          "name": "stdout",
          "text": [
            "['MDS', 'is', 'going', 'virtual!']\n"
          ]
        }
      ],
      "source": [
        "s = \"MDS is going virtual!\"\n",
        "\n",
        "# Your answer here.\n",
        "s_split_into_list = list(s.split(\" \"))\n",
        "print(s_split_into_list)"
      ]
    },
    {
      "cell_type": "markdown",
      "metadata": {
        "id": "YcMxGky4UI58"
      },
      "source": [
        "### 5."
      ]
    },
    {
      "cell_type": "markdown",
      "metadata": {
        "id": "aSXiGjsgUI5-"
      },
      "source": [
        "Given the following variables:\n",
        "\n",
        "```\n",
        "thing = \"light\"\n",
        "speed = 299792458  # m/s\n",
        "```\n",
        "\n",
        "Use f-strings to print:\n",
        "\n",
        "```\n",
        "The speed of light is 2.997925e+08 m/s.\n",
        "```"
      ]
    },
    {
      "cell_type": "code",
      "execution_count": 12,
      "metadata": {
        "id": "YajDl_7BUI6C",
        "outputId": "059eb8ad-a7a4-42c3-d89a-8701072845bb",
        "colab": {
          "base_uri": "https://localhost:8080/",
          "height": 35
        }
      },
      "outputs": [
        {
          "output_type": "execute_result",
          "data": {
            "application/vnd.google.colaboratory.intrinsic+json": {
              "type": "string"
            },
            "text/plain": [
              "'The speed of light is 299792458 m/s.'"
            ]
          },
          "metadata": {},
          "execution_count": 12
        }
      ],
      "source": [
        "# Your answer here.\n",
        "thing = \"light\"\n",
        "speed = 299792458  # m/s\n",
        "f\"The speed of {thing} is {speed} m/s.\""
      ]
    },
    {
      "cell_type": "markdown",
      "metadata": {
        "id": "-ozCxcHeUI6E"
      },
      "source": [
        "### 6."
      ]
    },
    {
      "cell_type": "markdown",
      "metadata": {
        "id": "0SGCRCJ3UI6G"
      },
      "source": [
        "Given this nested list, use indexing to grab the word \"MDS\":"
      ]
    },
    {
      "cell_type": "code",
      "execution_count": 17,
      "metadata": {
        "id": "hWkOjS54UI6I",
        "outputId": "b9bf91f0-44a1-49e3-bdb2-591ad836e3c8",
        "colab": {
          "base_uri": "https://localhost:8080/"
        }
      },
      "outputs": [
        {
          "output_type": "stream",
          "name": "stdout",
          "text": [
            "index of MDS: ['MDS']\n"
          ]
        }
      ],
      "source": [
        "l = [10, [3, 4], [5, [100, 200, [\"MDS\"]], 23, 11], 1, 7]\n",
        "# Get the index number position of the list elements\n",
        "# for pos,ele in enumerate(l) :\n",
        "#   print(pos, ele)\n",
        "\n",
        "# grab 'MDS' using indexing\n",
        "index_MDS = l[2][1][2]\n",
        "print(\"index of MDS:\",index_MDS)\n",
        "# Your answer here."
      ]
    },
    {
      "cell_type": "markdown",
      "metadata": {
        "id": "H1fT3uWjUI6K"
      },
      "source": [
        "### 7."
      ]
    },
    {
      "cell_type": "markdown",
      "metadata": {
        "id": "RUUdY4xzUI6N"
      },
      "source": [
        "Given this nest dictionary grab the word \"MDS\":"
      ]
    },
    {
      "cell_type": "code",
      "execution_count": 67,
      "metadata": {
        "id": "7TsuzAVoUI6P",
        "outputId": "55a5869c-9de0-463a-838d-b0cbd3934637",
        "colab": {
          "base_uri": "https://localhost:8080/"
        }
      },
      "outputs": [
        {
          "output_type": "stream",
          "name": "stdout",
          "text": [
            "MDS\n"
          ]
        }
      ],
      "source": [
        "d = {\n",
        "    \"outer\": [\n",
        "        1,\n",
        "        2,\n",
        "        3,\n",
        "        {\"inner\": [\"this\", \"is\", \"inception\", {\"inner_inner\": [1, 2, 3, \"MDS\"]}]},\n",
        "    ]\n",
        "}\n",
        "\n",
        "# Your answer here.\n",
        "# get the keys\n",
        "# for key in d.keys():\n",
        "#   print(key)\n",
        "\n",
        "inner_dict = {}\n",
        "inner_list = []\n",
        "for outer_value in d.values():\n",
        "  inner_dict = outer_value[3].copy()\n",
        "  # print(outer_value[3])\n",
        "  # print(\"copied dict\",inner_dict)\n",
        "\n",
        "# loop through the copied dict\n",
        "for inner_value in inner_dict.values():\n",
        "  inner_list = inner_value.copy()\n",
        "  # print(inner_value)\n",
        "  # print(\"New list\",inner_list)\n",
        "\n",
        "# print(inner_list[3]) # get the fouth element of the list\n",
        "\n",
        "last_dict = []   # create empty dict\n",
        "last_dict = inner_list[3].copy()\n",
        "# print(\"Last dict\",last_dict)\n",
        "\n",
        "last_list = []  # create empty list\n",
        "for last_dict_value in last_dict.values():\n",
        "  last_list = last_dict_value.copy()\n",
        "  # print(last_dict_value)\n",
        "  # print(\"Last list\",last_list)\n",
        "\n",
        "# print 'MDS'\n",
        "print(last_list[3])\n"
      ]
    },
    {
      "cell_type": "markdown",
      "metadata": {
        "id": "5-5JZpt0UI6R"
      },
      "source": [
        "### 8."
      ]
    },
    {
      "cell_type": "markdown",
      "metadata": {
        "id": "lZjoYrTpUI6S"
      },
      "source": [
        "Why does the following cell return an error?"
      ]
    },
    {
      "cell_type": "code",
      "execution_count": 71,
      "metadata": {
        "tags": [
          "raises-exception"
        ],
        "id": "MMJKlVqYUI6T",
        "outputId": "748a36d3-66a7-44c5-f63a-5832a5ed5b18",
        "colab": {
          "base_uri": "https://localhost:8080/",
          "height": 235
        }
      },
      "outputs": [
        {
          "output_type": "error",
          "ename": "TypeError",
          "evalue": "ignored",
          "traceback": [
            "\u001b[0;31m---------------------------------------------------------------------------\u001b[0m",
            "\u001b[0;31mTypeError\u001b[0m                                 Traceback (most recent call last)",
            "\u001b[0;32m<ipython-input-71-a36506e1c50f>\u001b[0m in \u001b[0;36m<module>\u001b[0;34m()\u001b[0m\n\u001b[1;32m      1\u001b[0m \u001b[0mt\u001b[0m \u001b[0;34m=\u001b[0m \u001b[0;34m(\u001b[0m\u001b[0;36m1\u001b[0m\u001b[0;34m,\u001b[0m \u001b[0;36m2\u001b[0m\u001b[0;34m,\u001b[0m \u001b[0;36m3\u001b[0m\u001b[0;34m,\u001b[0m \u001b[0;36m4\u001b[0m\u001b[0;34m,\u001b[0m \u001b[0;36m5\u001b[0m\u001b[0;34m)\u001b[0m\u001b[0;34m\u001b[0m\u001b[0;34m\u001b[0m\u001b[0m\n\u001b[0;32m----> 2\u001b[0;31m \u001b[0mt\u001b[0m\u001b[0;34m[\u001b[0m\u001b[0;34m-\u001b[0m\u001b[0;36m1\u001b[0m\u001b[0;34m]\u001b[0m \u001b[0;34m=\u001b[0m \u001b[0;36m6\u001b[0m\u001b[0;34m\u001b[0m\u001b[0;34m\u001b[0m\u001b[0m\n\u001b[0m\u001b[1;32m      3\u001b[0m \u001b[0;34m\u001b[0m\u001b[0m\n\u001b[1;32m      4\u001b[0m \u001b[0;31m# THe cell returned an error because Tuple is immutable ~ cannot be modified except you want to define\u001b[0m\u001b[0;34m\u001b[0m\u001b[0;34m\u001b[0m\u001b[0;34m\u001b[0m\u001b[0m\n\u001b[1;32m      5\u001b[0m \u001b[0;31m# new tuple with same name of different elements\u001b[0m\u001b[0;34m\u001b[0m\u001b[0;34m\u001b[0m\u001b[0;34m\u001b[0m\u001b[0m\n",
            "\u001b[0;31mTypeError\u001b[0m: 'tuple' object does not support item assignment"
          ]
        }
      ],
      "source": [
        "t = (1, 2, 3, 4, 5)\n",
        "t[-1] = 6\n",
        "\n",
        "# THe cell returned an error because Tuple is immutable ~ cannot be modified except you want to define \n",
        "# new tuple with same name of different elements \n"
      ]
    },
    {
      "cell_type": "markdown",
      "metadata": {
        "id": "hiBs4vpfUI6a"
      },
      "source": [
        "### 9."
      ]
    },
    {
      "cell_type": "markdown",
      "metadata": {
        "id": "nJ6IhGYWUI6c"
      },
      "source": [
        "Use string methods to extract the website domain from an email, e.g., from the string `\"tomas.beuzen@fakemail.com\"`, you should extract `\"fakemail\"`."
      ]
    },
    {
      "cell_type": "code",
      "execution_count": 81,
      "metadata": {
        "id": "H8bf7RwRUI6d",
        "outputId": "16eba06f-2189-4b67-8d7c-7d49d94ace4c",
        "colab": {
          "base_uri": "https://localhost:8080/"
        }
      },
      "outputs": [
        {
          "output_type": "stream",
          "name": "stdout",
          "text": [
            "['tomas.beuzen', 'fakemail.com']\n",
            "fakemail\n"
          ]
        }
      ],
      "source": [
        "email = \"tomas.beuzen@fakemail.com\"\n",
        "\n",
        "# Your answer here.\n",
        "\n",
        "# split up string 'email' into list \n",
        "email_split = email.split(\"@\")\n",
        "print(email_split)\n",
        "\n",
        "# get the second element in the list\n",
        "email_domain = email_split[1]\n",
        "\n",
        "# print 'fakemail' only\n",
        "print(email_domain[:-4])\n"
      ]
    },
    {
      "cell_type": "markdown",
      "metadata": {
        "id": "PiY3RlvgUI6f"
      },
      "source": [
        "### 10."
      ]
    },
    {
      "cell_type": "markdown",
      "metadata": {
        "id": "KATB6YJ2UI6g"
      },
      "source": [
        "Given the variable `language` which contains a string, use `if/elif/else` to write a program that:\n",
        "- return \"I love snakes!\" if `language` is `\"python\"` (any kind of capitalization)\n",
        "- return \"Are you a pirate?\" if `language` is `\"R\"` (any kind of capitalization)\n",
        "- else return \"What is `language`?\" if `language` is anything else."
      ]
    },
    {
      "cell_type": "code",
      "execution_count": 98,
      "metadata": {
        "id": "up5SWFsQUI6i",
        "outputId": "42971273-fa57-4786-ca90-4cc84d0d0aad",
        "colab": {
          "base_uri": "https://localhost:8080/"
        }
      },
      "outputs": [
        {
          "output_type": "stream",
          "name": "stdout",
          "text": [
            "What is language\n"
          ]
        }
      ],
      "source": [
        "language = \"sd\"\n",
        "# Your answer here.\n",
        "\n",
        "if  language == \"python\":\n",
        "  print(\"I love snakes\")\n",
        "elif language == \"r\":\n",
        "  print(\"Are you a pirate\")\n",
        "else:\n",
        "  print(\"What is language\")\n"
      ]
    },
    {
      "cell_type": "markdown",
      "metadata": {
        "id": "HnvYr_F9UI6k"
      },
      "source": [
        "<hr>\n",
        "<hr>\n",
        "<hr>"
      ]
    }
  ],
  "metadata": {
    "kernelspec": {
      "display_name": "Python 3 (ipykernel)",
      "language": "python",
      "name": "python3"
    },
    "language_info": {
      "codemirror_mode": {
        "name": "ipython",
        "version": 3
      },
      "file_extension": ".py",
      "mimetype": "text/x-python",
      "name": "python",
      "nbconvert_exporter": "python",
      "pygments_lexer": "ipython3",
      "version": "3.9.7"
    },
    "colab": {
      "name": "Exercise-1 Basic Pythons.ipynb",
      "provenance": [],
      "include_colab_link": true
    }
  },
  "nbformat": 4,
  "nbformat_minor": 0
}